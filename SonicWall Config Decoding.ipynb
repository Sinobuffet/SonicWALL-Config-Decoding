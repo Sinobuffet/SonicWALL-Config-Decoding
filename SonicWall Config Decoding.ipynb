{
 "cells": [
  {
   "cell_type": "markdown",
   "id": "250dac03",
   "metadata": {},
   "source": [
    "# SonicWall 导出配置解码/编码工具\n",
    "### Zixi Wang   2023/1/11"
   ]
  },
  {
   "cell_type": "markdown",
   "id": "adb3d51c",
   "metadata": {},
   "source": [
    "## Decoding"
   ]
  },
  {
   "cell_type": "code",
   "execution_count": 4,
   "id": "5c0d043d",
   "metadata": {
    "scrolled": true
   },
   "outputs": [],
   "source": [
    "import base64\n",
    "\n",
    "exp =open('sonicwall-NSA 2700-SonicOS 7.0.1-5018.exp')\n",
    "exp = exp.read()\n",
    "decoded_data = base64.b64decode(exp)\n",
    "\n",
    "file = open('config.txt','wb+')\n",
    "file.write(decoded_data)\n",
    "\n",
    "with open(r'config.txt', 'r') as file:\n",
    "    data = file.read()\n",
    "    data = data.replace('&', '\\n')\n",
    "with open(r'config.txt', 'w') as file:\n",
    "    file.write(data)"
   ]
  },
  {
   "cell_type": "markdown",
   "id": "6dedb815",
   "metadata": {},
   "source": [
    "## Encoding"
   ]
  },
  {
   "cell_type": "code",
   "execution_count": 17,
   "id": "db9bdd15",
   "metadata": {},
   "outputs": [
    {
     "data": {
      "text/plain": [
       "2073048"
      ]
     },
     "execution_count": 17,
     "metadata": {},
     "output_type": "execute_result"
    }
   ],
   "source": [
    "config = open('config.txt')\n",
    "\n",
    "with open(r'config.txt', 'r') as file:\n",
    "    data = file.read()\n",
    "    data = data.replace('\\n', '&')\n",
    "with open(r'config.txt', 'w') as file:\n",
    "    file.write(data) \n",
    "    \n",
    "config = open('config.txt')\n",
    "config = config.read()\n",
    "encoded_data = base64.b64encode(config.encode('ascii'))\n",
    "file = open('new.exp','wb+')\n",
    "file.write(encoded_data)"
   ]
  },
  {
   "cell_type": "code",
   "execution_count": null,
   "id": "8b858408",
   "metadata": {},
   "outputs": [],
   "source": []
  }
 ],
 "metadata": {
  "kernelspec": {
   "display_name": "Python 3 (ipykernel)",
   "language": "python",
   "name": "python3"
  },
  "language_info": {
   "codemirror_mode": {
    "name": "ipython",
    "version": 3
   },
   "file_extension": ".py",
   "mimetype": "text/x-python",
   "name": "python",
   "nbconvert_exporter": "python",
   "pygments_lexer": "ipython3",
   "version": "3.9.7"
  }
 },
 "nbformat": 4,
 "nbformat_minor": 5
}
